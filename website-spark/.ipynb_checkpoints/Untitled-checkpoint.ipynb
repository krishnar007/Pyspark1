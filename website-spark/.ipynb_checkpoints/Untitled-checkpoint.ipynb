{
 "cells": [
  {
   "cell_type": "code",
   "execution_count": null,
   "id": "bf17b688-15c9-49a9-bbb0-bb26e1ba3367",
   "metadata": {},
   "outputs": [],
   "source": [
    "from urllib.request import urlopen\n",
    "import requests\n",
    "import json\n",
    "from pyspark.sql.functions import udf, col, explode\n",
    "from pyspark.sql.types import StructType, StructField, IntegerType, StringType, ArrayType\n",
    "from pyspark.sql import Row\n",
    "from pyspark import SparkContext as sc\n",
    "from pyspark.sql import SparkSession\n",
    "import ssl\n",
    "import certifi\n",
    "from pyspark.shell import spark\n",
    "from urllib.request import urlopen\n",
    "import urllib\n",
    "from pyspark import SparkConf\n",
    "from pyspark import SparkContext\n",
    "sc = SparkContext.getOrCreate(SparkConf().setMaster(\"local[*]\"))\n",
    "content = urlopen(\"https://randomuser.me/api/0.8/?results=100\").read()\n",
    "rdd = sc.parallelize([content])\n",
    "df = spark.read.json(rdd)\n",
    "df.show()\n",
    "\n",
    "#https://stackoverflow.com/questions/52805115/certificate-verify-failed-unable-to-get-local-issuer-certificate\n",
    "# import ssl\n",
    "# import certifi\n",
    "# from urllib.request import urlopen\n",
    "#\n",
    "# request = \"https://example.com\"\n",
    "# urlopen(request, context=ssl.create_default_context(cafile=certifi.where()))\n",
    "\n"
   ]
  }
 ],
 "metadata": {
  "kernelspec": {
   "display_name": "Python 3 (ipykernel)",
   "language": "python",
   "name": "python3"
  },
  "language_info": {
   "name": ""
  }
 },
 "nbformat": 4,
 "nbformat_minor": 5
}
